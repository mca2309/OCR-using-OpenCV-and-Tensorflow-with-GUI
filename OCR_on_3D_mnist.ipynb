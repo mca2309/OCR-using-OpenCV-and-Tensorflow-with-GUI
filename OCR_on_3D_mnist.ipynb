{
  "nbformat": 4,
  "nbformat_minor": 0,
  "metadata": {
    "colab": {
      "provenance": [],
      "gpuType": "T4",
      "mount_file_id": "https://github.com/mca2309/OCR-using-OpenCV-and-Tensorflow-with-GUI/blob/main/OCR_on_3D_mnist.ipynb",
      "authorship_tag": "ABX9TyOB4z0RN9FmjTp8aKm+Nw+f",
      "include_colab_link": true
    },
    "kernelspec": {
      "name": "python3",
      "display_name": "Python 3"
    },
    "language_info": {
      "name": "python"
    },
    "accelerator": "GPU"
  },
  "cells": [
    {
      "cell_type": "markdown",
      "metadata": {
        "id": "view-in-github",
        "colab_type": "text"
      },
      "source": [
        "<a href=\"https://colab.research.google.com/github/mca2309/OCR-using-OpenCV-and-Tensorflow-with-GUI/blob/R3/OCR_on_3D_mnist.ipynb\" target=\"_parent\"><img src=\"https://colab.research.google.com/assets/colab-badge.svg\" alt=\"Open In Colab\"/></a>"
      ]
    },
    {
      "cell_type": "code",
      "execution_count": 1,
      "metadata": {
        "id": "xrkthHFXHI3G",
        "outputId": "ca95f328-0ff9-4e4d-8d50-79bb1ab9686c",
        "colab": {
          "base_uri": "https://localhost:8080/"
        }
      },
      "outputs": [
        {
          "output_type": "stream",
          "name": "stdout",
          "text": [
            "Mounted at /content/drive\n",
            "Requirement already satisfied: kaggle in /usr/local/lib/python3.10/dist-packages (1.5.16)\n",
            "Requirement already satisfied: six>=1.10 in /usr/local/lib/python3.10/dist-packages (from kaggle) (1.16.0)\n",
            "Requirement already satisfied: certifi in /usr/local/lib/python3.10/dist-packages (from kaggle) (2024.2.2)\n",
            "Requirement already satisfied: python-dateutil in /usr/local/lib/python3.10/dist-packages (from kaggle) (2.8.2)\n",
            "Requirement already satisfied: requests in /usr/local/lib/python3.10/dist-packages (from kaggle) (2.31.0)\n",
            "Requirement already satisfied: tqdm in /usr/local/lib/python3.10/dist-packages (from kaggle) (4.66.2)\n",
            "Requirement already satisfied: python-slugify in /usr/local/lib/python3.10/dist-packages (from kaggle) (8.0.4)\n",
            "Requirement already satisfied: urllib3 in /usr/local/lib/python3.10/dist-packages (from kaggle) (2.0.7)\n",
            "Requirement already satisfied: bleach in /usr/local/lib/python3.10/dist-packages (from kaggle) (6.1.0)\n",
            "Requirement already satisfied: webencodings in /usr/local/lib/python3.10/dist-packages (from bleach->kaggle) (0.5.1)\n",
            "Requirement already satisfied: text-unidecode>=1.3 in /usr/local/lib/python3.10/dist-packages (from python-slugify->kaggle) (1.3)\n",
            "Requirement already satisfied: charset-normalizer<4,>=2 in /usr/local/lib/python3.10/dist-packages (from requests->kaggle) (3.3.2)\n",
            "Requirement already satisfied: idna<4,>=2.5 in /usr/local/lib/python3.10/dist-packages (from requests->kaggle) (3.6)\n",
            "Downloading 3d-mnist.zip to /content\n",
            " 92% 140M/153M [00:01<00:00, 115MB/s] \n",
            "100% 153M/153M [00:01<00:00, 117MB/s]\n"
          ]
        }
      ],
      "source": [
        "#Downloading and extracting the dataset from kaggle\n",
        "from google.colab import drive\n",
        "drive.mount('/content/drive')\n",
        "\n",
        "!pip install kaggle\n",
        "\n",
        "import os\n",
        "os.environ['KAGGLE_CONFIG_DIR'] = '/content/drive/MyDrive/kaggle'\n",
        "\n",
        "!kaggle datasets download -d daavoo/3d-mnist\n",
        "\n",
        "import zipfile\n",
        "\n",
        "file_path = '/content/3d-mnist.zip'\n",
        "\n",
        "!mkdir 3d-mnist\n",
        "\n",
        "with zipfile.ZipFile(file_path, 'r') as zip_ref:\n",
        "    zip_ref.extractall('/content/3d-mnist')"
      ]
    },
    {
      "cell_type": "code",
      "source": [
        "import numpy as np\n",
        "from tensorflow.keras.datasets import mnist\n",
        "from tensorflow.keras.utils import to_categorical\n",
        "from tensorflow.keras.models import Sequential\n",
        "from tensorflow.keras.layers import Conv3D, MaxPooling3D, Flatten, Dense, Dropout\n",
        "from tensorflow.keras.optimizers import Adam\n",
        "from sklearn.metrics import classification_report, confusion_matrix\n",
        "import matplotlib.pyplot as plt\n",
        "import seaborn as sns\n",
        "import h5py\n",
        "import numpy as np\n",
        "import h5py\n",
        "from tensorflow.keras.utils import to_categorical\n",
        "from sklearn.model_selection import train_test_split\n",
        "from tensorflow.keras.models import load_model"
      ],
      "metadata": {
        "id": "FsmqmYpyQ1rl"
      },
      "execution_count": 24,
      "outputs": []
    },
    {
      "cell_type": "code",
      "source": [
        "# Load the dataset\n",
        "f = h5py.File(\"/content/3d-mnist/full_dataset_vectors.h5\", \"r\")\n",
        "trainX = f[\"X_train\"][:]\n",
        "trainY = f[\"y_train\"][:]\n",
        "testX = f[\"X_test\"][:]\n",
        "testY = f[\"y_test\"][:]"
      ],
      "metadata": {
        "id": "9In8wD_kQ2cS"
      },
      "execution_count": 3,
      "outputs": []
    },
    {
      "cell_type": "code",
      "source": [
        "# Reshape dataset to have a single channel and add a depth dimension\n",
        "trainX = trainX.reshape((trainX.shape[0], 16, 16, 16, 1))\n",
        "testX = testX.reshape((testX.shape[0], 16, 16, 16, 1))"
      ],
      "metadata": {
        "id": "c6PLmt8oQ4av"
      },
      "execution_count": 4,
      "outputs": []
    },
    {
      "cell_type": "code",
      "source": [
        "# One-hot encode target values\n",
        "trainY = to_categorical(trainY)\n",
        "testY = to_categorical(testY)"
      ],
      "metadata": {
        "id": "vhO64vPyQ7Ln"
      },
      "execution_count": 5,
      "outputs": []
    },
    {
      "cell_type": "code",
      "source": [
        "# Scale pixels\n",
        "trainX = trainX.astype('float32') / 255.0\n",
        "testX = testX.astype('float32') / 255.0"
      ],
      "metadata": {
        "id": "mj3JhhGPQ8ny"
      },
      "execution_count": 6,
      "outputs": []
    },
    {
      "cell_type": "code",
      "source": [
        "# Create a CNN\n",
        "model = Sequential()\n",
        "model.add(Conv3D(32, (3, 3, 3), activation='relu', kernel_initializer='he_uniform', input_shape=(16, 16, 16, 1)))\n",
        "model.add(MaxPooling3D((2, 2, 2)))\n",
        "model.add(Conv3D(64, (3, 3, 3), activation='relu', kernel_initializer='he_uniform'))\n",
        "model.add(MaxPooling3D((2, 2, 2)))\n",
        "model.add(Flatten())\n",
        "model.add(Dense(256, activation='relu', kernel_initializer='he_uniform'))\n",
        "model.add(Dropout(0.5))\n",
        "model.add(Dense(10, activation='softmax'))"
      ],
      "metadata": {
        "id": "xlRfFTduQ-Q5"
      },
      "execution_count": 7,
      "outputs": []
    },
    {
      "cell_type": "code",
      "source": [
        "# Compile model\n",
        "opt = Adam(learning_rate=0.001)\n",
        "model.compile(optimizer=opt, loss='categorical_crossentropy', metrics=['accuracy'])"
      ],
      "metadata": {
        "id": "cZbNKdOvRAhp"
      },
      "execution_count": 18,
      "outputs": []
    },
    {
      "cell_type": "code",
      "source": [
        "# Fit the model\n",
        "history = model.fit(trainX, trainY, epochs=10, batch_size=32, validation_data=(testX, testY))\n",
        "# save our model\n",
        "model.save('mnist_3D_cnn.h5')"
      ],
      "metadata": {
        "colab": {
          "base_uri": "https://localhost:8080/"
        },
        "id": "RetRLP4eRB8h",
        "outputId": "39babe03-9bc8-472a-8404-d50f1a95da2f"
      },
      "execution_count": 90,
      "outputs": [
        {
          "output_type": "stream",
          "name": "stdout",
          "text": [
            "Epoch 1/10\n",
            "313/313 [==============================] - 3s 9ms/step - loss: 1.1087 - accuracy: 0.6084 - val_loss: 1.1293 - val_accuracy: 0.5925\n",
            "Epoch 2/10\n",
            "313/313 [==============================] - 3s 8ms/step - loss: 1.1021 - accuracy: 0.6114 - val_loss: 1.0832 - val_accuracy: 0.6030\n",
            "Epoch 3/10\n",
            "313/313 [==============================] - 3s 9ms/step - loss: 1.0986 - accuracy: 0.6134 - val_loss: 1.0912 - val_accuracy: 0.5940\n",
            "Epoch 4/10\n",
            "313/313 [==============================] - 3s 9ms/step - loss: 1.0820 - accuracy: 0.6195 - val_loss: 1.0668 - val_accuracy: 0.6215\n",
            "Epoch 5/10\n",
            "313/313 [==============================] - 3s 8ms/step - loss: 1.0749 - accuracy: 0.6192 - val_loss: 1.0652 - val_accuracy: 0.6105\n",
            "Epoch 6/10\n",
            "313/313 [==============================] - 2s 6ms/step - loss: 1.0678 - accuracy: 0.6234 - val_loss: 1.0549 - val_accuracy: 0.6130\n",
            "Epoch 7/10\n",
            "313/313 [==============================] - 2s 7ms/step - loss: 1.0657 - accuracy: 0.6232 - val_loss: 1.0536 - val_accuracy: 0.6235\n",
            "Epoch 8/10\n",
            "313/313 [==============================] - 3s 9ms/step - loss: 1.0561 - accuracy: 0.6243 - val_loss: 1.0503 - val_accuracy: 0.6255\n",
            "Epoch 9/10\n",
            "313/313 [==============================] - 4s 12ms/step - loss: 1.0460 - accuracy: 0.6327 - val_loss: 1.0453 - val_accuracy: 0.6210\n",
            "Epoch 10/10\n",
            "313/313 [==============================] - 5s 15ms/step - loss: 1.0374 - accuracy: 0.6363 - val_loss: 1.0618 - val_accuracy: 0.6185\n"
          ]
        }
      ]
    },
    {
      "cell_type": "code",
      "source": [
        "# Load the model\n",
        "model = load_model(\"mnist_3D_cnn.h5\")"
      ],
      "metadata": {
        "id": "p_o1JSnFVRm4"
      },
      "execution_count": 22,
      "outputs": []
    },
    {
      "cell_type": "code",
      "source": [
        "# Evaluate the model\n",
        "loss, accuracy = model.evaluate(testX, testY)\n",
        "print(f'Test accuracy: {accuracy}')"
      ],
      "metadata": {
        "colab": {
          "base_uri": "https://localhost:8080/"
        },
        "id": "yYKDieruREr0",
        "outputId": "4bfc90e7-527c-436d-a50f-6ee64526e8a6"
      },
      "execution_count": 23,
      "outputs": [
        {
          "output_type": "stream",
          "name": "stdout",
          "text": [
            "63/63 [==============================] - 5s 72ms/step - loss: 1.0618 - accuracy: 0.6185\n",
            "Test accuracy: 0.6184999942779541\n"
          ]
        }
      ]
    },
    {
      "cell_type": "code",
      "source": [
        "# Predict the test set\n",
        "y_predicted = model.predict(testX)\n",
        "y_predicted = np.argmax(y_predicted, axis=1)"
      ],
      "metadata": {
        "colab": {
          "base_uri": "https://localhost:8080/"
        },
        "id": "nSaRHIzSRUac",
        "outputId": "ea390ceb-e996-4c28-bd1a-0dc6807758d6"
      },
      "execution_count": 25,
      "outputs": [
        {
          "output_type": "stream",
          "name": "stdout",
          "text": [
            "63/63 [==============================] - 8s 117ms/step\n"
          ]
        }
      ]
    },
    {
      "cell_type": "code",
      "source": [
        "# Print classification report\n",
        "print(classification_report(np.argmax(testY, axis=1), y_predicted))"
      ],
      "metadata": {
        "colab": {
          "base_uri": "https://localhost:8080/"
        },
        "id": "fN1errBBRWLo",
        "outputId": "6adaba39-289e-402a-a846-1b49d89c68e6"
      },
      "execution_count": 26,
      "outputs": [
        {
          "output_type": "stream",
          "name": "stdout",
          "text": [
            "              precision    recall  f1-score   support\n",
            "\n",
            "           0       0.70      0.89      0.79       170\n",
            "           1       0.99      0.89      0.94       252\n",
            "           2       0.60      0.53      0.57       232\n",
            "           3       0.54      0.46      0.50       214\n",
            "           4       0.49      0.57      0.53       220\n",
            "           5       0.55      0.51      0.53       174\n",
            "           6       0.60      0.50      0.54       174\n",
            "           7       0.67      0.67      0.67       198\n",
            "           8       0.49      0.66      0.56       178\n",
            "           9       0.52      0.47      0.50       188\n",
            "\n",
            "    accuracy                           0.62      2000\n",
            "   macro avg       0.62      0.62      0.61      2000\n",
            "weighted avg       0.62      0.62      0.62      2000\n",
            "\n"
          ]
        }
      ]
    },
    {
      "cell_type": "code",
      "source": [
        "# Plot the training and validation loss\n",
        "plt.plot(history.history['loss'], label='Training Loss')\n",
        "plt.plot(history.history['val_loss'], label='Validation Loss')\n",
        "plt.xlabel('Epoch')\n",
        "plt.ylabel('Loss')\n",
        "plt.title('Training vs Validation Loss')\n",
        "plt.legend()\n",
        "plt.show()"
      ],
      "metadata": {
        "colab": {
          "base_uri": "https://localhost:8080/",
          "height": 216
        },
        "id": "Tr_JhQDQRXpd",
        "outputId": "c9c4c63c-62bb-4542-cbe0-21c5d81e2d81"
      },
      "execution_count": 27,
      "outputs": [
        {
          "output_type": "error",
          "ename": "NameError",
          "evalue": "name 'history' is not defined",
          "traceback": [
            "\u001b[0;31m---------------------------------------------------------------------------\u001b[0m",
            "\u001b[0;31mNameError\u001b[0m                                 Traceback (most recent call last)",
            "\u001b[0;32m<ipython-input-27-e444688b294c>\u001b[0m in \u001b[0;36m<cell line: 2>\u001b[0;34m()\u001b[0m\n\u001b[1;32m      1\u001b[0m \u001b[0;31m# Plot the training and validation loss\u001b[0m\u001b[0;34m\u001b[0m\u001b[0;34m\u001b[0m\u001b[0m\n\u001b[0;32m----> 2\u001b[0;31m \u001b[0mplt\u001b[0m\u001b[0;34m.\u001b[0m\u001b[0mplot\u001b[0m\u001b[0;34m(\u001b[0m\u001b[0mhistory\u001b[0m\u001b[0;34m.\u001b[0m\u001b[0mhistory\u001b[0m\u001b[0;34m[\u001b[0m\u001b[0;34m'loss'\u001b[0m\u001b[0;34m]\u001b[0m\u001b[0;34m,\u001b[0m \u001b[0mlabel\u001b[0m\u001b[0;34m=\u001b[0m\u001b[0;34m'Training Loss'\u001b[0m\u001b[0;34m)\u001b[0m\u001b[0;34m\u001b[0m\u001b[0;34m\u001b[0m\u001b[0m\n\u001b[0m\u001b[1;32m      3\u001b[0m \u001b[0mplt\u001b[0m\u001b[0;34m.\u001b[0m\u001b[0mplot\u001b[0m\u001b[0;34m(\u001b[0m\u001b[0mhistory\u001b[0m\u001b[0;34m.\u001b[0m\u001b[0mhistory\u001b[0m\u001b[0;34m[\u001b[0m\u001b[0;34m'val_loss'\u001b[0m\u001b[0;34m]\u001b[0m\u001b[0;34m,\u001b[0m \u001b[0mlabel\u001b[0m\u001b[0;34m=\u001b[0m\u001b[0;34m'Validation Loss'\u001b[0m\u001b[0;34m)\u001b[0m\u001b[0;34m\u001b[0m\u001b[0;34m\u001b[0m\u001b[0m\n\u001b[1;32m      4\u001b[0m \u001b[0mplt\u001b[0m\u001b[0;34m.\u001b[0m\u001b[0mxlabel\u001b[0m\u001b[0;34m(\u001b[0m\u001b[0;34m'Epoch'\u001b[0m\u001b[0;34m)\u001b[0m\u001b[0;34m\u001b[0m\u001b[0;34m\u001b[0m\u001b[0m\n\u001b[1;32m      5\u001b[0m \u001b[0mplt\u001b[0m\u001b[0;34m.\u001b[0m\u001b[0mylabel\u001b[0m\u001b[0;34m(\u001b[0m\u001b[0;34m'Loss'\u001b[0m\u001b[0;34m)\u001b[0m\u001b[0;34m\u001b[0m\u001b[0;34m\u001b[0m\u001b[0m\n",
            "\u001b[0;31mNameError\u001b[0m: name 'history' is not defined"
          ]
        }
      ]
    },
    {
      "cell_type": "code",
      "source": [
        "# Plot the training and testing accuracy\n",
        "plt.plot(history.history['accuracy'], label='Training Accuracy')\n",
        "plt.plot(history.history['val_accuracy'], label='Validation Accuracy')\n",
        "plt.xlabel('Epoch')\n",
        "plt.ylabel('Accuracy')\n",
        "plt.title('Training vs Validation Accuracy')\n",
        "plt.legend()\n",
        "plt.show()"
      ],
      "metadata": {
        "colab": {
          "base_uri": "https://localhost:8080/",
          "height": 472
        },
        "id": "907u-YurRa5d",
        "outputId": "67e93b99-2b74-4d02-b032-054618b7667b"
      },
      "execution_count": 96,
      "outputs": [
        {
          "output_type": "display_data",
          "data": {
            "text/plain": [
              "<Figure size 640x480 with 1 Axes>"
            ],
            "image/png": "[encoded data removed]"
          },
          "metadata": {}
        }
      ]
    },
    {
      "cell_type": "code",
      "source": [
        "# Calculate the confusion matrix\n",
        "conf_matrix = confusion_matrix(np.argmax(testY, axis=1), y_predicted)"
      ],
      "metadata": {
        "id": "wUiWuQSBRcTE"
      },
      "execution_count": 28,
      "outputs": []
    },
    {
      "cell_type": "code",
      "source": [
        "# Plotting the confusion matrix\n",
        "plt.figure(figsize=(10, 8))\n",
        "sns.heatmap(conf_matrix, annot=True, fmt='d', cmap='Blues', xticklabels=np.arange(10), yticklabels=np.arange(10))\n",
        "plt.xlabel('Predicted labels')\n",
        "plt.ylabel('True labels')\n",
        "plt.title('Confusion Matrix')\n",
        "plt.show()"
      ],
      "metadata": {
        "colab": {
          "base_uri": "https://localhost:8080/",
          "height": 718
        },
        "id": "6oiLWYF3RfBn",
        "outputId": "8ed7b0d9-779f-498f-c777-53d17753cbdd"
      },
      "execution_count": 29,
      "outputs": [
        {
          "output_type": "display_data",
          "data": {
            "text/plain": [
              "<Figure size 1000x800 with 2 Axes>"
            ],
            "image/png": "[encoded data removed]"
          },
          "metadata": {}
        }
      ]
    },
    {
      "cell_type": "markdown",
      "source": [
        "# Retraining the model"
      ],
      "metadata": {
        "id": "sNR19EAKeQdp"
      }
    },
    {
      "cell_type": "code",
      "source": [
        "import numpy as np\n",
        "import h5py\n",
        "\n",
        "# Generate synthetic new data\n",
        "num_samples = 1000\n",
        "X_new = np.random.rand(num_samples, 16, 16, 16, 1)  # Random 3D images\n",
        "y_new = np.random.randint(0, 10, size=num_samples)  # Random labels (0-9)\n",
        "\n",
        "# Save the synthetic new data to an HDF5 file\n",
        "with h5py.File('synthetic_new_data.h5', 'w') as f:\n",
        "    f.create_dataset('X_new', data=X_new)\n",
        "    f.create_dataset('y_new', data=y_new)\n"
      ],
      "metadata": {
        "id": "UwtEm1bnfdVV"
      },
      "execution_count": 30,
      "outputs": []
    },
    {
      "cell_type": "code",
      "source": [
        "new_data_file_path = \"/content/synthetic_new_data.h5\"\n",
        "\n",
        "# Load the new data\n",
        "new_data_f = h5py.File(new_data_file_path, \"r\")\n",
        "X_new = new_data_f[\"X_new\"][:]\n",
        "y_new = new_data_f[\"y_new\"][:]"
      ],
      "metadata": {
        "id": "27O1LL7nf5bj"
      },
      "execution_count": 32,
      "outputs": []
    },
    {
      "cell_type": "code",
      "source": [
        "# Reshape the new data\n",
        "X_new = X_new.reshape((X_new.shape[0], 16, 16, 16, 1))"
      ],
      "metadata": {
        "id": "gqNuMfdXf52M"
      },
      "execution_count": 33,
      "outputs": []
    },
    {
      "cell_type": "code",
      "source": [
        "# One-hot encode the target values\n",
        "y_new = to_categorical(y_new)"
      ],
      "metadata": {
        "id": "QmZc3Wtaf7xq"
      },
      "execution_count": 34,
      "outputs": []
    },
    {
      "cell_type": "code",
      "source": [
        "# Scale the new data\n",
        "X_new = X_new.astype('float32') / 255.0"
      ],
      "metadata": {
        "id": "6-whNUtJf9Qr"
      },
      "execution_count": 35,
      "outputs": []
    },
    {
      "cell_type": "code",
      "source": [
        "# Split the new data into training and validation sets\n",
        "X_train, X_val, y_train, y_val = train_test_split(X_new, y_new, test_size=0.2, random_state=42)"
      ],
      "metadata": {
        "id": "2mmKcGcsiKpX"
      },
      "execution_count": null,
      "outputs": []
    },
    {
      "cell_type": "code",
      "source": [
        "# Retrain the model with the new data and validation set\n",
        "history = model.fit(X_train, y_train, epochs=5, batch_size=32, validation_data=(X_val, y_val))"
      ],
      "metadata": {
        "id": "PVcwxF13f-pM",
        "outputId": "32663236-a41f-4a7f-c30c-4827920bb60a",
        "colab": {
          "base_uri": "https://localhost:8080/"
        }
      },
      "execution_count": 36,
      "outputs": [
        {
          "output_type": "stream",
          "name": "stdout",
          "text": [
            "Epoch 1/5\n",
            "32/32 [==============================] - 12s 365ms/step - loss: 2.3147 - accuracy: 0.1070\n",
            "Epoch 2/5\n",
            "32/32 [==============================] - 10s 304ms/step - loss: 2.3021 - accuracy: 0.1170\n",
            "Epoch 3/5\n",
            "32/32 [==============================] - 9s 267ms/step - loss: 2.3115 - accuracy: 0.1060\n",
            "Epoch 4/5\n",
            "32/32 [==============================] - 9s 297ms/step - loss: 2.3114 - accuracy: 0.1210\n",
            "Epoch 5/5\n",
            "32/32 [==============================] - 9s 281ms/step - loss: 2.2970 - accuracy: 0.1240\n"
          ]
        }
      ]
    },
    {
      "cell_type": "code",
      "source": [
        "# Save the updated model\n",
        "model.save('updated_mnist_3D_cnn.h5')"
      ],
      "metadata": {
        "id": "WoEsL0tSgBPo",
        "outputId": "549ec412-3e63-4016-d93a-2f8ab96ea494",
        "colab": {
          "base_uri": "https://localhost:8080/"
        }
      },
      "execution_count": 37,
      "outputs": [
        {
          "output_type": "stream",
          "name": "stderr",
          "text": [
            "/usr/local/lib/python3.10/dist-packages/keras/src/engine/training.py:3103: UserWarning: You are saving your model as an HDF5 file via `model.save()`. This file format is considered legacy. We recommend using instead the native Keras format, e.g. `model.save('my_model.keras')`.\n",
            "  saving_api.save_model(\n"
          ]
        }
      ]
    },
    {
      "cell_type": "code",
      "source": [
        "model = load_model(\"updated_mnist_3D_cnn.h5\")"
      ],
      "metadata": {
        "id": "xx_VRU6zgDYP"
      },
      "execution_count": 38,
      "outputs": []
    },
    {
      "cell_type": "code",
      "source": [
        "# Evaluate the model\n",
        "loss, accuracy = model.evaluate(X_val, y_val)\n",
        "print(f'Test accuracy: {accuracy}')"
      ],
      "metadata": {
        "id": "K7JToQfYgJSa",
        "outputId": "0e2fa7ce-c709-4714-8b87-3c750b32f20f",
        "colab": {
          "base_uri": "https://localhost:8080/"
        }
      },
      "execution_count": 39,
      "outputs": [
        {
          "output_type": "stream",
          "name": "stdout",
          "text": [
            "63/63 [==============================] - 6s 94ms/step - loss: 2.1813 - accuracy: 0.2975\n",
            "Test accuracy: 0.29750001430511475\n"
          ]
        }
      ]
    },
    {
      "cell_type": "code",
      "source": [
        "# Predict the test set\n",
        "y_predicted = model.predict(X_val)\n",
        "y_predicted = np.argmax(y_predicted, axis=1)"
      ],
      "metadata": {
        "id": "R4EyNn8dgPVP"
      },
      "execution_count": null,
      "outputs": []
    },
    {
      "cell_type": "code",
      "source": [
        "# Print classification report\n",
        "print(classification_report(np.argmax(y_val, axis=1), y_predicted))"
      ],
      "metadata": {
        "id": "DNxds_ehgSHJ"
      },
      "execution_count": null,
      "outputs": []
    },
    {
      "cell_type": "code",
      "source": [
        "# Plot the training and validation loss\n",
        "plt.plot(history.history['loss'], label='Training Loss')\n",
        "plt.plot(history.history['val_loss'], label='Validation Loss')\n",
        "plt.xlabel('Epoch')\n",
        "plt.ylabel('Loss')\n",
        "plt.title('Training vs Validation Loss')\n",
        "plt.legend()\n",
        "plt.show()"
      ],
      "metadata": {
        "id": "r5sRiF8OgaIq"
      },
      "execution_count": null,
      "outputs": []
    },
    {
      "cell_type": "code",
      "source": [
        "# Plot the training and testing accuracy\n",
        "plt.plot(history.history['accuracy'], label='Training Accuracy')\n",
        "plt.plot(history.history['val_accuracy'], label='Validation Accuracy')\n",
        "plt.xlabel('Epoch')\n",
        "plt.ylabel('Accuracy')\n",
        "plt.title('Training vs Validation Accuracy')\n",
        "plt.legend()\n",
        "plt.show()"
      ],
      "metadata": {
        "id": "dSE6qq3fgcBY"
      },
      "execution_count": null,
      "outputs": []
    },
    {
      "cell_type": "code",
      "source": [
        "# Calculate the confusion matrix\n",
        "conf_matrix = confusion_matrix(np.argmax(y_val, axis=1), y_predicted)"
      ],
      "metadata": {
        "id": "2B0sfNgngeoW"
      },
      "execution_count": null,
      "outputs": []
    },
    {
      "cell_type": "code",
      "source": [
        "# Plotting the confusion matrix\n",
        "plt.figure(figsize=(10, 8))\n",
        "sns.heatmap(conf_matrix, annot=True, fmt='d', cmap='Blues', xticklabels=np.arange(10), yticklabels=np.arange(10))\n",
        "plt.xlabel('Predicted labels')\n",
        "plt.ylabel('True labels')\n",
        "plt.title('Confusion Matrix')\n",
        "plt.show()"
      ],
      "metadata": {
        "id": "XiGwfbTQggDw"
      },
      "execution_count": null,
      "outputs": []
    }
  ]
}